{
 "cells": [
  {
   "cell_type": "markdown",
   "id": "6f1449c5-7c58-45cc-9e25-f633c9b05f58",
   "metadata": {},
   "source": [
    "Problem Statement 🍕\n",
    "Kanav has started his own Pizza Store by getting the Franchise from the popular Pizza brand Diminos. The store currently is running completely online and Kanav has hired a team of delivery personnel to deliver the pizza on time to the customers. In order to increase the revenue and profits Kanav is already running the store 24 * 7.\n",
    "As per Diminos policies, Kanav’s Pizza Store promises to deliver the pizza order within 30 minutes from the time the order was placed. Failure to meet this commitment results in the pizza being free for the customer.\n",
    "Recently Diminos gave a notice to Kanav that there will be an audit scheduled and Kanav is particularly concerned about two key performance metrics: Delivery Time and Customer Satisfaction. These metrics are pivotal in determining the overall success and viability of the store, and failure to meet expectations could jeopardize the franchise relationship.\n",
    "\n",
    "Moreover, as Kanav has hired a team of delivery personnels, he is also facing difficulty in capacity planning for the Delivery Fleet. Capacity planning for the delivery fleet is a crucial aspect for ensuring timely and efficient deliveries.\n"
   ]
  },
  {
   "cell_type": "markdown",
   "id": "057cddb9-9e95-495f-9e15-41f79bb39ee2",
   "metadata": {},
   "source": [
    "TASK\n",
    "Assume that you are a freelance data scientist.\n",
    "Kanav is worried that he might lose the franchise if he is not able to meet the metric and wants your help in order to understand his store's performance so that he can take some actions to prevent his business.\n",
    "To address this challenge, Kanav seeks a data-driven approach to understand the store's performance and identify potential areas for improvement.\n",
    "As a data science expert you are tasked with analyzing historical data related to order arrival and delivery times, and other relevant variables. You as an expert are expected to provide actionable insights and recommendations that Kanav can implement to enhance the store's performance and secure its standing with Diminos.\n",
    "Help Kanav by analyzing the data and sharing insights to keep his business up and running.\n"
   ]
  },
  {
   "cell_type": "markdown",
   "id": "64df667a-ce16-43ca-b439-8ec5c35677bf",
   "metadata": {},
   "source": [
    "                                                                                                                    Last Mile Delivery Analysis"
   ]
  },
  {
   "cell_type": "markdown",
   "id": "b2d41eab-f15f-4258-96c2-27dde605c38f",
   "metadata": {},
   "source": [
    " Import libraries"
   ]
  },
  {
   "cell_type": "code",
   "execution_count": 19,
   "id": "43c186fd-62b1-4a35-884b-2be603a99301",
   "metadata": {},
   "outputs": [],
   "source": [
    "import pandas as pd\n",
    "import matplotlib.pyplot as plt\n",
    "import seaborn as sns\n",
    "from datetime import timedelta"
   ]
  },
  {
   "cell_type": "markdown",
   "id": "237d42bb-64fa-4461-a714-cb7e9a064947",
   "metadata": {},
   "source": [
    "Load datasets"
   ]
  },
  {
   "cell_type": "code",
   "execution_count": 20,
   "id": "c713b395-6207-42bf-840b-f72dfad04df5",
   "metadata": {},
   "outputs": [
    {
     "data": {
      "text/html": [
       "<div>\n",
       "<style scoped>\n",
       "    .dataframe tbody tr th:only-of-type {\n",
       "        vertical-align: middle;\n",
       "    }\n",
       "\n",
       "    .dataframe tbody tr th {\n",
       "        vertical-align: top;\n",
       "    }\n",
       "\n",
       "    .dataframe thead th {\n",
       "        text-align: right;\n",
       "    }\n",
       "</style>\n",
       "<table border=\"1\" class=\"dataframe\">\n",
       "  <thead>\n",
       "    <tr style=\"text-align: right;\">\n",
       "      <th></th>\n",
       "      <th>order_id</th>\n",
       "      <th>order_placed_at</th>\n",
       "    </tr>\n",
       "  </thead>\n",
       "  <tbody>\n",
       "    <tr>\n",
       "      <th>0</th>\n",
       "      <td>321230114</td>\n",
       "      <td>2020-12-11 00:01:29</td>\n",
       "    </tr>\n",
       "    <tr>\n",
       "      <th>1</th>\n",
       "      <td>321230115</td>\n",
       "      <td>2020-12-11 00:36:02</td>\n",
       "    </tr>\n",
       "    <tr>\n",
       "      <th>2</th>\n",
       "      <td>321230116</td>\n",
       "      <td>2020-12-11 00:55:01</td>\n",
       "    </tr>\n",
       "    <tr>\n",
       "      <th>3</th>\n",
       "      <td>321230117</td>\n",
       "      <td>2020-12-11 01:05:27</td>\n",
       "    </tr>\n",
       "    <tr>\n",
       "      <th>4</th>\n",
       "      <td>321230118</td>\n",
       "      <td>2020-12-11 01:14:20</td>\n",
       "    </tr>\n",
       "  </tbody>\n",
       "</table>\n",
       "</div>"
      ],
      "text/plain": [
       "    order_id      order_placed_at\n",
       "0  321230114  2020-12-11 00:01:29\n",
       "1  321230115  2020-12-11 00:36:02\n",
       "2  321230116  2020-12-11 00:55:01\n",
       "3  321230117  2020-12-11 01:05:27\n",
       "4  321230118  2020-12-11 01:14:20"
      ]
     },
     "execution_count": 20,
     "metadata": {},
     "output_type": "execute_result"
    }
   ],
   "source": [
    "orders = pd.read_csv('orders.csv')\n",
    "orders.head()"
   ]
  },
  {
   "cell_type": "markdown",
   "id": "47599e9f-f895-4ac6-8198-cb3ad736726b",
   "metadata": {},
   "source": [
    "Load datasets"
   ]
  },
  {
   "cell_type": "code",
   "execution_count": 21,
   "id": "b240fa77-3eaa-4c45-88f0-9d5267f6171e",
   "metadata": {},
   "outputs": [
    {
     "data": {
      "text/html": [
       "<div>\n",
       "<style scoped>\n",
       "    .dataframe tbody tr th:only-of-type {\n",
       "        vertical-align: middle;\n",
       "    }\n",
       "\n",
       "    .dataframe tbody tr th {\n",
       "        vertical-align: top;\n",
       "    }\n",
       "\n",
       "    .dataframe thead th {\n",
       "        text-align: right;\n",
       "    }\n",
       "</style>\n",
       "<table border=\"1\" class=\"dataframe\">\n",
       "  <thead>\n",
       "    <tr style=\"text-align: right;\">\n",
       "      <th></th>\n",
       "      <th>order_id</th>\n",
       "      <th>items_ordered</th>\n",
       "    </tr>\n",
       "  </thead>\n",
       "  <tbody>\n",
       "    <tr>\n",
       "      <th>0</th>\n",
       "      <td>321230114</td>\n",
       "      <td>['p_025', 'p_032', 'p_037']</td>\n",
       "    </tr>\n",
       "    <tr>\n",
       "      <th>1</th>\n",
       "      <td>321230115</td>\n",
       "      <td>['p_017', 'p_012']</td>\n",
       "    </tr>\n",
       "    <tr>\n",
       "      <th>2</th>\n",
       "      <td>321230116</td>\n",
       "      <td>['p_027', 'p_037']</td>\n",
       "    </tr>\n",
       "    <tr>\n",
       "      <th>3</th>\n",
       "      <td>321230117</td>\n",
       "      <td>['p_004', 'p_029']</td>\n",
       "    </tr>\n",
       "    <tr>\n",
       "      <th>4</th>\n",
       "      <td>321230118</td>\n",
       "      <td>['p_017', 'p_037']</td>\n",
       "    </tr>\n",
       "  </tbody>\n",
       "</table>\n",
       "</div>"
      ],
      "text/plain": [
       "    order_id                items_ordered\n",
       "0  321230114  ['p_025', 'p_032', 'p_037']\n",
       "1  321230115           ['p_017', 'p_012']\n",
       "2  321230116           ['p_027', 'p_037']\n",
       "3  321230117           ['p_004', 'p_029']\n",
       "4  321230118           ['p_017', 'p_037']"
      ]
     },
     "execution_count": 21,
     "metadata": {},
     "output_type": "execute_result"
    }
   ],
   "source": [
    "order_items = pd.read_csv('order_items.csv')\n",
    "order_items.head()"
   ]
  },
  {
   "cell_type": "markdown",
   "id": "7166426a-65bc-44ff-9929-b52aee481afe",
   "metadata": {},
   "source": [
    "Load datasets"
   ]
  },
  {
   "cell_type": "code",
   "execution_count": 22,
   "id": "17590a1b-ac9c-43d4-95f5-7c28ea0b889d",
   "metadata": {},
   "outputs": [
    {
     "data": {
      "text/html": [
       "<div>\n",
       "<style scoped>\n",
       "    .dataframe tbody tr th:only-of-type {\n",
       "        vertical-align: middle;\n",
       "    }\n",
       "\n",
       "    .dataframe tbody tr th {\n",
       "        vertical-align: top;\n",
       "    }\n",
       "\n",
       "    .dataframe thead th {\n",
       "        text-align: right;\n",
       "    }\n",
       "</style>\n",
       "<table border=\"1\" class=\"dataframe\">\n",
       "  <thead>\n",
       "    <tr style=\"text-align: right;\">\n",
       "      <th></th>\n",
       "      <th>item_id</th>\n",
       "      <th>category</th>\n",
       "      <th>Item</th>\n",
       "      <th>Size</th>\n",
       "      <th>Price</th>\n",
       "    </tr>\n",
       "  </thead>\n",
       "  <tbody>\n",
       "    <tr>\n",
       "      <th>0</th>\n",
       "      <td>p_001</td>\n",
       "      <td>Veg</td>\n",
       "      <td>Margherita</td>\n",
       "      <td>Regular</td>\n",
       "      <td>109</td>\n",
       "    </tr>\n",
       "    <tr>\n",
       "      <th>1</th>\n",
       "      <td>p_002</td>\n",
       "      <td>Veg</td>\n",
       "      <td>Margherita</td>\n",
       "      <td>Medium</td>\n",
       "      <td>245</td>\n",
       "    </tr>\n",
       "    <tr>\n",
       "      <th>2</th>\n",
       "      <td>p_003</td>\n",
       "      <td>Veg</td>\n",
       "      <td>Margherita</td>\n",
       "      <td>Large</td>\n",
       "      <td>455</td>\n",
       "    </tr>\n",
       "    <tr>\n",
       "      <th>3</th>\n",
       "      <td>p_004</td>\n",
       "      <td>Veg</td>\n",
       "      <td>Double Cheese Margherita</td>\n",
       "      <td>Regular</td>\n",
       "      <td>215</td>\n",
       "    </tr>\n",
       "    <tr>\n",
       "      <th>4</th>\n",
       "      <td>p_005</td>\n",
       "      <td>Veg</td>\n",
       "      <td>Double Cheese Margherita</td>\n",
       "      <td>Medium</td>\n",
       "      <td>385</td>\n",
       "    </tr>\n",
       "  </tbody>\n",
       "</table>\n",
       "</div>"
      ],
      "text/plain": [
       "  item_id category                      Item     Size  Price\n",
       "0   p_001      Veg                Margherita  Regular    109\n",
       "1   p_002      Veg                Margherita   Medium    245\n",
       "2   p_003      Veg                Margherita    Large    455\n",
       "3   p_004      Veg  Double Cheese Margherita  Regular    215\n",
       "4   p_005      Veg  Double Cheese Margherita   Medium    385"
      ]
     },
     "execution_count": 22,
     "metadata": {},
     "output_type": "execute_result"
    }
   ],
   "source": [
    "products = pd.read_csv('products.csv')\n",
    "products.head()"
   ]
  },
  {
   "cell_type": "markdown",
   "id": "04fac1ed-123c-486d-9f0f-bf61d41ec237",
   "metadata": {},
   "source": [
    "Load datasets"
   ]
  },
  {
   "cell_type": "code",
   "execution_count": 23,
   "id": "78051529-a191-42a9-a6a2-ab94e029c1fa",
   "metadata": {},
   "outputs": [
    {
     "data": {
      "text/html": [
       "<div>\n",
       "<style scoped>\n",
       "    .dataframe tbody tr th:only-of-type {\n",
       "        vertical-align: middle;\n",
       "    }\n",
       "\n",
       "    .dataframe tbody tr th {\n",
       "        vertical-align: top;\n",
       "    }\n",
       "\n",
       "    .dataframe thead th {\n",
       "        text-align: right;\n",
       "    }\n",
       "</style>\n",
       "<table border=\"1\" class=\"dataframe\">\n",
       "  <thead>\n",
       "    <tr style=\"text-align: right;\">\n",
       "      <th></th>\n",
       "      <th>order_id</th>\n",
       "      <th>time_stamp</th>\n",
       "      <th>status</th>\n",
       "    </tr>\n",
       "  </thead>\n",
       "  <tbody>\n",
       "    <tr>\n",
       "      <th>0</th>\n",
       "      <td>321230114</td>\n",
       "      <td>2020-12-11 00:01:29.000000000</td>\n",
       "      <td>Pending</td>\n",
       "    </tr>\n",
       "    <tr>\n",
       "      <th>1</th>\n",
       "      <td>321230114</td>\n",
       "      <td>2020-12-11 00:06:29.000000000</td>\n",
       "      <td>Out For Delivery</td>\n",
       "    </tr>\n",
       "    <tr>\n",
       "      <th>2</th>\n",
       "      <td>321230114</td>\n",
       "      <td>2020-12-11 00:19:13.299151076</td>\n",
       "      <td>Delivered</td>\n",
       "    </tr>\n",
       "    <tr>\n",
       "      <th>3</th>\n",
       "      <td>321230115</td>\n",
       "      <td>2020-12-11 00:36:02.000000000</td>\n",
       "      <td>Pending</td>\n",
       "    </tr>\n",
       "    <tr>\n",
       "      <th>4</th>\n",
       "      <td>321230115</td>\n",
       "      <td>2020-12-11 00:41:02.000000000</td>\n",
       "      <td>Out For Delivery</td>\n",
       "    </tr>\n",
       "  </tbody>\n",
       "</table>\n",
       "</div>"
      ],
      "text/plain": [
       "    order_id                     time_stamp            status\n",
       "0  321230114  2020-12-11 00:01:29.000000000           Pending\n",
       "1  321230114  2020-12-11 00:06:29.000000000  Out For Delivery\n",
       "2  321230114  2020-12-11 00:19:13.299151076         Delivered\n",
       "3  321230115  2020-12-11 00:36:02.000000000           Pending\n",
       "4  321230115  2020-12-11 00:41:02.000000000  Out For Delivery"
      ]
     },
     "execution_count": 23,
     "metadata": {},
     "output_type": "execute_result"
    }
   ],
   "source": [
    "deliveries = pd.read_csv('deliveries.csv')\n",
    "deliveries.head()"
   ]
  },
  {
   "cell_type": "markdown",
   "id": "ae95843d-1674-4476-ade9-6b3a13b2b463",
   "metadata": {},
   "source": [
    "Parse dates"
   ]
  },
  {
   "cell_type": "code",
   "execution_count": 36,
   "id": "a314a888-f5a4-46b2-993a-66f791e3f023",
   "metadata": {},
   "outputs": [
    {
     "data": {
      "text/html": [
       "<div>\n",
       "<style scoped>\n",
       "    .dataframe tbody tr th:only-of-type {\n",
       "        vertical-align: middle;\n",
       "    }\n",
       "\n",
       "    .dataframe tbody tr th {\n",
       "        vertical-align: top;\n",
       "    }\n",
       "\n",
       "    .dataframe thead th {\n",
       "        text-align: right;\n",
       "    }\n",
       "</style>\n",
       "<table border=\"1\" class=\"dataframe\">\n",
       "  <thead>\n",
       "    <tr style=\"text-align: right;\">\n",
       "      <th></th>\n",
       "      <th>order_id</th>\n",
       "      <th>order_placed_at</th>\n",
       "    </tr>\n",
       "  </thead>\n",
       "  <tbody>\n",
       "    <tr>\n",
       "      <th>0</th>\n",
       "      <td>321230114</td>\n",
       "      <td>2020-12-11 00:01:29</td>\n",
       "    </tr>\n",
       "    <tr>\n",
       "      <th>1</th>\n",
       "      <td>321230115</td>\n",
       "      <td>2020-12-11 00:36:02</td>\n",
       "    </tr>\n",
       "    <tr>\n",
       "      <th>2</th>\n",
       "      <td>321230116</td>\n",
       "      <td>2020-12-11 00:55:01</td>\n",
       "    </tr>\n",
       "    <tr>\n",
       "      <th>3</th>\n",
       "      <td>321230117</td>\n",
       "      <td>2020-12-11 01:05:27</td>\n",
       "    </tr>\n",
       "    <tr>\n",
       "      <th>4</th>\n",
       "      <td>321230118</td>\n",
       "      <td>2020-12-11 01:14:20</td>\n",
       "    </tr>\n",
       "  </tbody>\n",
       "</table>\n",
       "</div>"
      ],
      "text/plain": [
       "    order_id     order_placed_at\n",
       "0  321230114 2020-12-11 00:01:29\n",
       "1  321230115 2020-12-11 00:36:02\n",
       "2  321230116 2020-12-11 00:55:01\n",
       "3  321230117 2020-12-11 01:05:27\n",
       "4  321230118 2020-12-11 01:14:20"
      ]
     },
     "execution_count": 36,
     "metadata": {},
     "output_type": "execute_result"
    }
   ],
   "source": [
    "orders['order_placed_at'] = pd.to_datetime(orders['order_placed_at'])\n",
    "orders.head()"
   ]
  },
  {
   "cell_type": "code",
   "execution_count": 37,
   "id": "c6c24ae3-d869-49ce-b271-e863834bbdfe",
   "metadata": {},
   "outputs": [
    {
     "data": {
      "text/html": [
       "<div>\n",
       "<style scoped>\n",
       "    .dataframe tbody tr th:only-of-type {\n",
       "        vertical-align: middle;\n",
       "    }\n",
       "\n",
       "    .dataframe tbody tr th {\n",
       "        vertical-align: top;\n",
       "    }\n",
       "\n",
       "    .dataframe thead th {\n",
       "        text-align: right;\n",
       "    }\n",
       "</style>\n",
       "<table border=\"1\" class=\"dataframe\">\n",
       "  <thead>\n",
       "    <tr style=\"text-align: right;\">\n",
       "      <th></th>\n",
       "      <th>order_id</th>\n",
       "      <th>time_stamp</th>\n",
       "      <th>status</th>\n",
       "    </tr>\n",
       "  </thead>\n",
       "  <tbody>\n",
       "    <tr>\n",
       "      <th>0</th>\n",
       "      <td>321230114</td>\n",
       "      <td>2020-12-11 00:01:29.000000000</td>\n",
       "      <td>Pending</td>\n",
       "    </tr>\n",
       "    <tr>\n",
       "      <th>1</th>\n",
       "      <td>321230114</td>\n",
       "      <td>2020-12-11 00:06:29.000000000</td>\n",
       "      <td>Out For Delivery</td>\n",
       "    </tr>\n",
       "    <tr>\n",
       "      <th>2</th>\n",
       "      <td>321230114</td>\n",
       "      <td>2020-12-11 00:19:13.299151076</td>\n",
       "      <td>Delivered</td>\n",
       "    </tr>\n",
       "    <tr>\n",
       "      <th>3</th>\n",
       "      <td>321230115</td>\n",
       "      <td>2020-12-11 00:36:02.000000000</td>\n",
       "      <td>Pending</td>\n",
       "    </tr>\n",
       "    <tr>\n",
       "      <th>4</th>\n",
       "      <td>321230115</td>\n",
       "      <td>2020-12-11 00:41:02.000000000</td>\n",
       "      <td>Out For Delivery</td>\n",
       "    </tr>\n",
       "  </tbody>\n",
       "</table>\n",
       "</div>"
      ],
      "text/plain": [
       "    order_id                    time_stamp            status\n",
       "0  321230114 2020-12-11 00:01:29.000000000           Pending\n",
       "1  321230114 2020-12-11 00:06:29.000000000  Out For Delivery\n",
       "2  321230114 2020-12-11 00:19:13.299151076         Delivered\n",
       "3  321230115 2020-12-11 00:36:02.000000000           Pending\n",
       "4  321230115 2020-12-11 00:41:02.000000000  Out For Delivery"
      ]
     },
     "execution_count": 37,
     "metadata": {},
     "output_type": "execute_result"
    }
   ],
   "source": [
    "deliveries['time_stamp'] = pd.to_datetime(deliveries['time_stamp'])\n",
    "deliveries.head()"
   ]
  },
  {
   "cell_type": "markdown",
   "id": "74c16772-6c8a-459b-8c00-62e9d11c87f9",
   "metadata": {},
   "source": [
    "Merge datasets"
   ]
  },
  {
   "cell_type": "code",
   "execution_count": 31,
   "id": "d3fd94b2-c42a-499f-b1a2-140fbf879a3a",
   "metadata": {},
   "outputs": [
    {
     "data": {
      "text/html": [
       "<div>\n",
       "<style scoped>\n",
       "    .dataframe tbody tr th:only-of-type {\n",
       "        vertical-align: middle;\n",
       "    }\n",
       "\n",
       "    .dataframe tbody tr th {\n",
       "        vertical-align: top;\n",
       "    }\n",
       "\n",
       "    .dataframe thead th {\n",
       "        text-align: right;\n",
       "    }\n",
       "</style>\n",
       "<table border=\"1\" class=\"dataframe\">\n",
       "  <thead>\n",
       "    <tr style=\"text-align: right;\">\n",
       "      <th></th>\n",
       "      <th>order_id</th>\n",
       "      <th>order_placed_at</th>\n",
       "      <th>items_ordered</th>\n",
       "      <th>time_stamp</th>\n",
       "      <th>status</th>\n",
       "    </tr>\n",
       "  </thead>\n",
       "  <tbody>\n",
       "    <tr>\n",
       "      <th>0</th>\n",
       "      <td>321230114</td>\n",
       "      <td>2020-12-11 00:01:29</td>\n",
       "      <td>['p_025', 'p_032', 'p_037']</td>\n",
       "      <td>2020-12-11 00:01:29.000000000</td>\n",
       "      <td>Pending</td>\n",
       "    </tr>\n",
       "    <tr>\n",
       "      <th>1</th>\n",
       "      <td>321230114</td>\n",
       "      <td>2020-12-11 00:01:29</td>\n",
       "      <td>['p_025', 'p_032', 'p_037']</td>\n",
       "      <td>2020-12-11 00:06:29.000000000</td>\n",
       "      <td>Out For Delivery</td>\n",
       "    </tr>\n",
       "    <tr>\n",
       "      <th>2</th>\n",
       "      <td>321230114</td>\n",
       "      <td>2020-12-11 00:01:29</td>\n",
       "      <td>['p_025', 'p_032', 'p_037']</td>\n",
       "      <td>2020-12-11 00:19:13.299151076</td>\n",
       "      <td>Delivered</td>\n",
       "    </tr>\n",
       "    <tr>\n",
       "      <th>3</th>\n",
       "      <td>321230115</td>\n",
       "      <td>2020-12-11 00:36:02</td>\n",
       "      <td>['p_017', 'p_012']</td>\n",
       "      <td>2020-12-11 00:36:02.000000000</td>\n",
       "      <td>Pending</td>\n",
       "    </tr>\n",
       "    <tr>\n",
       "      <th>4</th>\n",
       "      <td>321230115</td>\n",
       "      <td>2020-12-11 00:36:02</td>\n",
       "      <td>['p_017', 'p_012']</td>\n",
       "      <td>2020-12-11 00:41:02.000000000</td>\n",
       "      <td>Out For Delivery</td>\n",
       "    </tr>\n",
       "  </tbody>\n",
       "</table>\n",
       "</div>"
      ],
      "text/plain": [
       "    order_id     order_placed_at                items_ordered  \\\n",
       "0  321230114 2020-12-11 00:01:29  ['p_025', 'p_032', 'p_037']   \n",
       "1  321230114 2020-12-11 00:01:29  ['p_025', 'p_032', 'p_037']   \n",
       "2  321230114 2020-12-11 00:01:29  ['p_025', 'p_032', 'p_037']   \n",
       "3  321230115 2020-12-11 00:36:02           ['p_017', 'p_012']   \n",
       "4  321230115 2020-12-11 00:36:02           ['p_017', 'p_012']   \n",
       "\n",
       "                     time_stamp            status  \n",
       "0 2020-12-11 00:01:29.000000000           Pending  \n",
       "1 2020-12-11 00:06:29.000000000  Out For Delivery  \n",
       "2 2020-12-11 00:19:13.299151076         Delivered  \n",
       "3 2020-12-11 00:36:02.000000000           Pending  \n",
       "4 2020-12-11 00:41:02.000000000  Out For Delivery  "
      ]
     },
     "execution_count": 31,
     "metadata": {},
     "output_type": "execute_result"
    }
   ],
   "source": [
    "merged_data = orders.merge(order_items, on='order_id').merge(deliveries, on='order_id')\n",
    "merged_data.head()"
   ]
  },
  {
   "cell_type": "markdown",
   "id": "4c94d16e-ba45-4923-9a1c-823b5fad0616",
   "metadata": {},
   "source": [
    "Calculate delivery time"
   ]
  },
  {
   "cell_type": "code",
   "execution_count": 32,
   "id": "e698a917-918c-431e-8545-0f1afd1b53db",
   "metadata": {},
   "outputs": [
    {
     "data": {
      "text/html": [
       "<div>\n",
       "<style scoped>\n",
       "    .dataframe tbody tr th:only-of-type {\n",
       "        vertical-align: middle;\n",
       "    }\n",
       "\n",
       "    .dataframe tbody tr th {\n",
       "        vertical-align: top;\n",
       "    }\n",
       "\n",
       "    .dataframe thead th {\n",
       "        text-align: right;\n",
       "    }\n",
       "</style>\n",
       "<table border=\"1\" class=\"dataframe\">\n",
       "  <thead>\n",
       "    <tr style=\"text-align: right;\">\n",
       "      <th></th>\n",
       "      <th>order_id</th>\n",
       "      <th>order_placed_at</th>\n",
       "      <th>items_ordered</th>\n",
       "      <th>time_stamp</th>\n",
       "      <th>status</th>\n",
       "      <th>delivery_time</th>\n",
       "      <th>delivered_on_time</th>\n",
       "    </tr>\n",
       "  </thead>\n",
       "  <tbody>\n",
       "    <tr>\n",
       "      <th>0</th>\n",
       "      <td>321230114</td>\n",
       "      <td>2020-12-11 00:01:29</td>\n",
       "      <td>['p_025', 'p_032', 'p_037']</td>\n",
       "      <td>2020-12-11 00:01:29.000000000</td>\n",
       "      <td>Pending</td>\n",
       "      <td>0 days 00:00:00</td>\n",
       "      <td>True</td>\n",
       "    </tr>\n",
       "    <tr>\n",
       "      <th>1</th>\n",
       "      <td>321230114</td>\n",
       "      <td>2020-12-11 00:01:29</td>\n",
       "      <td>['p_025', 'p_032', 'p_037']</td>\n",
       "      <td>2020-12-11 00:06:29.000000000</td>\n",
       "      <td>Out For Delivery</td>\n",
       "      <td>0 days 00:05:00</td>\n",
       "      <td>True</td>\n",
       "    </tr>\n",
       "    <tr>\n",
       "      <th>2</th>\n",
       "      <td>321230114</td>\n",
       "      <td>2020-12-11 00:01:29</td>\n",
       "      <td>['p_025', 'p_032', 'p_037']</td>\n",
       "      <td>2020-12-11 00:19:13.299151076</td>\n",
       "      <td>Delivered</td>\n",
       "      <td>0 days 00:17:44.299151076</td>\n",
       "      <td>True</td>\n",
       "    </tr>\n",
       "    <tr>\n",
       "      <th>3</th>\n",
       "      <td>321230115</td>\n",
       "      <td>2020-12-11 00:36:02</td>\n",
       "      <td>['p_017', 'p_012']</td>\n",
       "      <td>2020-12-11 00:36:02.000000000</td>\n",
       "      <td>Pending</td>\n",
       "      <td>0 days 00:00:00</td>\n",
       "      <td>True</td>\n",
       "    </tr>\n",
       "    <tr>\n",
       "      <th>4</th>\n",
       "      <td>321230115</td>\n",
       "      <td>2020-12-11 00:36:02</td>\n",
       "      <td>['p_017', 'p_012']</td>\n",
       "      <td>2020-12-11 00:41:02.000000000</td>\n",
       "      <td>Out For Delivery</td>\n",
       "      <td>0 days 00:05:00</td>\n",
       "      <td>True</td>\n",
       "    </tr>\n",
       "  </tbody>\n",
       "</table>\n",
       "</div>"
      ],
      "text/plain": [
       "    order_id     order_placed_at                items_ordered  \\\n",
       "0  321230114 2020-12-11 00:01:29  ['p_025', 'p_032', 'p_037']   \n",
       "1  321230114 2020-12-11 00:01:29  ['p_025', 'p_032', 'p_037']   \n",
       "2  321230114 2020-12-11 00:01:29  ['p_025', 'p_032', 'p_037']   \n",
       "3  321230115 2020-12-11 00:36:02           ['p_017', 'p_012']   \n",
       "4  321230115 2020-12-11 00:36:02           ['p_017', 'p_012']   \n",
       "\n",
       "                     time_stamp            status             delivery_time  \\\n",
       "0 2020-12-11 00:01:29.000000000           Pending           0 days 00:00:00   \n",
       "1 2020-12-11 00:06:29.000000000  Out For Delivery           0 days 00:05:00   \n",
       "2 2020-12-11 00:19:13.299151076         Delivered 0 days 00:17:44.299151076   \n",
       "3 2020-12-11 00:36:02.000000000           Pending           0 days 00:00:00   \n",
       "4 2020-12-11 00:41:02.000000000  Out For Delivery           0 days 00:05:00   \n",
       "\n",
       "   delivered_on_time  \n",
       "0               True  \n",
       "1               True  \n",
       "2               True  \n",
       "3               True  \n",
       "4               True  "
      ]
     },
     "execution_count": 32,
     "metadata": {},
     "output_type": "execute_result"
    }
   ],
   "source": [
    "merged_data['delivery_time'] = merged_data['time_stamp'] - merged_data['order_placed_at']\n",
    "merged_data['delivered_on_time'] = merged_data['delivery_time'] <= timedelta(minutes=30)\n",
    "merged_data.head()"
   ]
  },
  {
   "cell_type": "markdown",
   "id": "738dc66e-abb7-4e1a-aa02-137729727bd9",
   "metadata": {},
   "source": [
    "Analyze performance metrics"
   ]
  },
  {
   "cell_type": "code",
   "execution_count": 27,
   "id": "0a8e6700-0db1-4f84-a92b-6f60c5a3048e",
   "metadata": {},
   "outputs": [
    {
     "name": "stdout",
     "output_type": "stream",
     "text": [
      "Percentage of orders delivered on time: 99.55%\n"
     ]
    }
   ],
   "source": [
    "on_time_percentage = merged_data['delivered_on_time'].mean() * 100\n",
    "print(f'Percentage of orders delivered on time: {on_time_percentage:.2f}%')"
   ]
  },
  {
   "cell_type": "markdown",
   "id": "ee146486-88c1-4339-a56b-7ad049d23b6e",
   "metadata": {},
   "source": [
    "Visualize delivery times"
   ]
  },
  {
   "cell_type": "code",
   "execution_count": 48,
   "id": "98b95740-fa7a-4c9f-9f25-a5520cbdc080",
   "metadata": {},
   "outputs": [
    {
     "data": {
      "image/png": "[encoded data removed]",
      "text/plain": [
       "<Figure size 600x300 with 1 Axes>"
      ]
     },
     "metadata": {},
     "output_type": "display_data"
    }
   ],
   "source": [
    "plt.figure(figsize=(6, 3))\n",
    "sns.histplot(merged_data['delivery_time'].dt.total_seconds() / 60, bins=50, kde=True)\n",
    "plt.title('Delivery Time Distribution (in minutes)')\n",
    "plt.xlabel('Delivery Time (minutes)')\n",
    "plt.ylabel('Frequency')\n",
    "plt.axvline(x=30, color='green', linestyle='--', label='30 minutes threshold')\n",
    "plt.legend()\n",
    "plt.show()"
   ]
  },
  {
   "cell_type": "markdown",
   "id": "1b8fad9e-9fc1-4b4c-8a6a-e45ebfa6afa1",
   "metadata": {},
   "source": [
    "Analyze peak order times"
   ]
  },
  {
   "cell_type": "code",
   "execution_count": 34,
   "id": "0419175c-0e8f-4aca-b220-397fd52bf096",
   "metadata": {},
   "outputs": [
    {
     "data": {
      "text/html": [
       "<div>\n",
       "<style scoped>\n",
       "    .dataframe tbody tr th:only-of-type {\n",
       "        vertical-align: middle;\n",
       "    }\n",
       "\n",
       "    .dataframe tbody tr th {\n",
       "        vertical-align: top;\n",
       "    }\n",
       "\n",
       "    .dataframe thead th {\n",
       "        text-align: right;\n",
       "    }\n",
       "</style>\n",
       "<table border=\"1\" class=\"dataframe\">\n",
       "  <thead>\n",
       "    <tr style=\"text-align: right;\">\n",
       "      <th></th>\n",
       "      <th>order_id</th>\n",
       "      <th>order_placed_at</th>\n",
       "      <th>items_ordered</th>\n",
       "      <th>time_stamp</th>\n",
       "      <th>status</th>\n",
       "      <th>delivery_time</th>\n",
       "      <th>delivered_on_time</th>\n",
       "      <th>hour</th>\n",
       "    </tr>\n",
       "  </thead>\n",
       "  <tbody>\n",
       "    <tr>\n",
       "      <th>0</th>\n",
       "      <td>321230114</td>\n",
       "      <td>2020-12-11 00:01:29</td>\n",
       "      <td>['p_025', 'p_032', 'p_037']</td>\n",
       "      <td>2020-12-11 00:01:29.000000000</td>\n",
       "      <td>Pending</td>\n",
       "      <td>0 days 00:00:00</td>\n",
       "      <td>True</td>\n",
       "      <td>0</td>\n",
       "    </tr>\n",
       "    <tr>\n",
       "      <th>1</th>\n",
       "      <td>321230114</td>\n",
       "      <td>2020-12-11 00:01:29</td>\n",
       "      <td>['p_025', 'p_032', 'p_037']</td>\n",
       "      <td>2020-12-11 00:06:29.000000000</td>\n",
       "      <td>Out For Delivery</td>\n",
       "      <td>0 days 00:05:00</td>\n",
       "      <td>True</td>\n",
       "      <td>0</td>\n",
       "    </tr>\n",
       "    <tr>\n",
       "      <th>2</th>\n",
       "      <td>321230114</td>\n",
       "      <td>2020-12-11 00:01:29</td>\n",
       "      <td>['p_025', 'p_032', 'p_037']</td>\n",
       "      <td>2020-12-11 00:19:13.299151076</td>\n",
       "      <td>Delivered</td>\n",
       "      <td>0 days 00:17:44.299151076</td>\n",
       "      <td>True</td>\n",
       "      <td>0</td>\n",
       "    </tr>\n",
       "    <tr>\n",
       "      <th>3</th>\n",
       "      <td>321230115</td>\n",
       "      <td>2020-12-11 00:36:02</td>\n",
       "      <td>['p_017', 'p_012']</td>\n",
       "      <td>2020-12-11 00:36:02.000000000</td>\n",
       "      <td>Pending</td>\n",
       "      <td>0 days 00:00:00</td>\n",
       "      <td>True</td>\n",
       "      <td>0</td>\n",
       "    </tr>\n",
       "    <tr>\n",
       "      <th>4</th>\n",
       "      <td>321230115</td>\n",
       "      <td>2020-12-11 00:36:02</td>\n",
       "      <td>['p_017', 'p_012']</td>\n",
       "      <td>2020-12-11 00:41:02.000000000</td>\n",
       "      <td>Out For Delivery</td>\n",
       "      <td>0 days 00:05:00</td>\n",
       "      <td>True</td>\n",
       "      <td>0</td>\n",
       "    </tr>\n",
       "  </tbody>\n",
       "</table>\n",
       "</div>"
      ],
      "text/plain": [
       "    order_id     order_placed_at                items_ordered  \\\n",
       "0  321230114 2020-12-11 00:01:29  ['p_025', 'p_032', 'p_037']   \n",
       "1  321230114 2020-12-11 00:01:29  ['p_025', 'p_032', 'p_037']   \n",
       "2  321230114 2020-12-11 00:01:29  ['p_025', 'p_032', 'p_037']   \n",
       "3  321230115 2020-12-11 00:36:02           ['p_017', 'p_012']   \n",
       "4  321230115 2020-12-11 00:36:02           ['p_017', 'p_012']   \n",
       "\n",
       "                     time_stamp            status             delivery_time  \\\n",
       "0 2020-12-11 00:01:29.000000000           Pending           0 days 00:00:00   \n",
       "1 2020-12-11 00:06:29.000000000  Out For Delivery           0 days 00:05:00   \n",
       "2 2020-12-11 00:19:13.299151076         Delivered 0 days 00:17:44.299151076   \n",
       "3 2020-12-11 00:36:02.000000000           Pending           0 days 00:00:00   \n",
       "4 2020-12-11 00:41:02.000000000  Out For Delivery           0 days 00:05:00   \n",
       "\n",
       "   delivered_on_time  hour  \n",
       "0               True     0  \n",
       "1               True     0  \n",
       "2               True     0  \n",
       "3               True     0  \n",
       "4               True     0  "
      ]
     },
     "execution_count": 34,
     "metadata": {},
     "output_type": "execute_result"
    }
   ],
   "source": [
    "merged_data['hour'] = merged_data['order_placed_at'].dt.hour\n",
    "merged_data.head()"
   ]
  },
  {
   "cell_type": "code",
   "execution_count": 35,
   "id": "17c15d86-333b-4382-9d26-c3f7cb210a08",
   "metadata": {},
   "outputs": [
    {
     "data": {
      "text/plain": [
       "hour\n",
       "0    27918\n",
       "1    23805\n",
       "2    21891\n",
       "3    19593\n",
       "4    18987\n",
       "Name: count, dtype: int64"
      ]
     },
     "execution_count": 35,
     "metadata": {},
     "output_type": "execute_result"
    }
   ],
   "source": [
    "order_volume_per_hour = merged_data['hour'].value_counts().sort_index()\n",
    "order_volume_per_hour.head()"
   ]
  },
  {
   "cell_type": "code",
   "execution_count": 45,
   "id": "95ac2ac3-9b60-4102-8a91-dcd9a0f963c6",
   "metadata": {},
   "outputs": [
    {
     "data": {
      "image/png": "[encoded data removed]",
      "text/plain": [
       "<Figure size 600x300 with 1 Axes>"
      ]
     },
     "metadata": {},
     "output_type": "display_data"
    }
   ],
   "source": [
    "plt.figure(figsize=(6, 3))\n",
    "order_volume_per_hour.plot(kind='bar')\n",
    "plt.title('Order Volume by Hour of Day')\n",
    "plt.xlabel('Hour of Day')\n",
    "plt.ylabel('Number of Orders')\n",
    "plt.xticks(range(25), rotation=0)\n",
    "plt.show()"
   ]
  },
  {
   "cell_type": "code",
   "execution_count": null,
   "id": "04d530b7-54af-47a4-ba57-18fa4d4feec4",
   "metadata": {},
   "outputs": [],
   "source": []
  }
 ],
 "metadata": {
  "kernelspec": {
   "display_name": "Python 3 (ipykernel)",
   "language": "python",
   "name": "python3"
  },
  "language_info": {
   "codemirror_mode": {
    "name": "ipython",
    "version": 3
   },
   "file_extension": ".py",
   "mimetype": "text/x-python",
   "name": "python",
   "nbconvert_exporter": "python",
   "pygments_lexer": "ipython3",
   "version": "3.12.7"
  }
 },
 "nbformat": 4,
 "nbformat_minor": 5
}
